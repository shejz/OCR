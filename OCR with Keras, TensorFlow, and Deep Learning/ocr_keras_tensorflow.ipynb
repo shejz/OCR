{
  "nbformat": 4,
  "nbformat_minor": 0,
  "metadata": {
    "colab": {
      "name": "ocr_keras_tensorflow.ipynb",
      "provenance": [],
      "collapsed_sections": []
    },
    "kernelspec": {
      "display_name": "Python 3",
      "language": "python",
      "name": "python3"
    },
    "language_info": {
      "codemirror_mode": {
        "name": "ipython",
        "version": 3
      },
      "file_extension": ".py",
      "mimetype": "text/x-python",
      "name": "python",
      "nbconvert_exporter": "python",
      "pygments_lexer": "ipython3",
      "version": "3.8.5"
    },
    "accelerator": "GPU"
  },
  "cells": [
    {
      "cell_type": "markdown",
      "metadata": {
        "id": "j4RpK9pawQzP"
      },
      "source": [
        "# OCR with Keras, TensorFlow, and Deep Learning"
      ]
    },
    {
      "cell_type": "markdown",
      "metadata": {
        "id": "zAckSQgGaGHY"
      },
      "source": [
        "### Install the necessary packages"
      ]
    },
    {
      "cell_type": "code",
      "metadata": {
        "id": "n9FkaOfWwawu"
      },
      "source": [
        "!pip install tensorflow==2.2.0"
      ],
      "execution_count": null,
      "outputs": []
    },
    {
      "cell_type": "code",
      "metadata": {
        "id": "7y0LG1EuaRlB",
        "colab": {
          "base_uri": "https://localhost:8080/"
        },
        "outputId": "f4841d9f-2da6-43a4-9c19-f6861ec918e7"
      },
      "source": [
        "%cd ocr-keras-tensorflow"
      ],
      "execution_count": 1,
      "outputs": [
        {
          "output_type": "stream",
          "text": [
            "/content/ocr-keras-tensorflow\n"
          ],
          "name": "stdout"
        }
      ]
    },
    {
      "cell_type": "markdown",
      "metadata": {
        "id": "wcrOk6pURp50"
      },
      "source": [
        "### Import Packages"
      ]
    },
    {
      "cell_type": "code",
      "metadata": {
        "id": "VJaCNlDDRz6d"
      },
      "source": [
        "# import the necessary packages\n",
        "from pyimagesearch.models import ResNet\n",
        "from tensorflow.keras.datasets import mnist\n",
        "from tensorflow.keras.preprocessing.image import ImageDataGenerator\n",
        "from tensorflow.keras.optimizers import SGD\n",
        "from sklearn.preprocessing import LabelBinarizer\n",
        "from sklearn.model_selection import train_test_split\n",
        "from sklearn.metrics import classification_report\n",
        "from imutils import build_montages\n",
        "import matplotlib.pyplot as plt\n",
        "import numpy as np\n",
        "import argparse\n",
        "import cv2"
      ],
      "execution_count": 2,
      "outputs": []
    },
    {
      "cell_type": "markdown",
      "metadata": {
        "id": "lBrLwCtN5kqy"
      },
      "source": [
        "Function to display images in Jupyter Notebooks and Google Colab"
      ]
    },
    {
      "cell_type": "code",
      "metadata": {
        "id": "fRw969Dp5Kdm"
      },
      "source": [
        "def plt_imshow(title, image):\n",
        "\t# convert the image frame BGR to RGB color space and display it\n",
        "\timage = cv2.cvtColor(image, cv2.COLOR_BGR2RGB)\n",
        "\tplt.imshow(image)\n",
        "\tplt.title(title)\n",
        "\tplt.grid(False)\n",
        "\tplt.show()"
      ],
      "execution_count": 3,
      "outputs": []
    },
    {
      "cell_type": "markdown",
      "metadata": {
        "id": "vB9E7lJyZoqL"
      },
      "source": [
        "### Our OCR dataset helper functions"
      ]
    },
    {
      "cell_type": "code",
      "metadata": {
        "id": "tJLxvRdbZvii"
      },
      "source": [
        "def load_az_dataset(datasetPath):\n",
        "\t# initialize the list of data and labels\n",
        "\tdata = []\n",
        "\tlabels = []\n",
        "\n",
        "\t# loop over the rows of the A-Z handwritten digit dataset\n",
        "\tfor row in open(datasetPath):\n",
        "\t\t# parse the label and image from the row\n",
        "\t\trow = row.split(\",\")\n",
        "\t\tlabel = int(row[0])\n",
        "\t\timage = np.array([int(x) for x in row[1:]], dtype=\"uint8\")\n",
        "\n",
        "\t\t# images are represented as single channel (grayscale) images\n",
        "\t\t# that are 28x28=784 pixels -- we need to take this flattened\n",
        "\t\t# 784-d list of numbers and repshape them into a 28x28 matrix\n",
        "\t\timage = image.reshape((28, 28))\n",
        "\n",
        "\t\t# update the list of data and labels\n",
        "\t\tdata.append(image)\n",
        "\t\tlabels.append(label)\n",
        "\n",
        "    # convert the data and labels to NumPy arrays\n",
        "\tdata = np.array(data, dtype=\"float32\")\n",
        "\tlabels = np.array(labels, dtype=\"int\")\n",
        "\n",
        "\t# return a 2-tuple of the A-Z data and labels\n",
        "\treturn (data, labels)"
      ],
      "execution_count": 4,
      "outputs": []
    },
    {
      "cell_type": "code",
      "metadata": {
        "id": "O8HKFhEOZ2h2"
      },
      "source": [
        "def load_mnist_dataset():\n",
        "\t# load the MNIST dataset and stack the training data and testing\n",
        "\t# data together (we'll create our own training and testing splits\n",
        "\t# later in the project)\n",
        "\t((trainData, trainLabels), (testData, testLabels)) = mnist.load_data()\n",
        "\tdata = np.vstack([trainData, testData])\n",
        "\tlabels = np.hstack([trainLabels, testLabels])\n",
        "\n",
        "\t# return a 2-tuple of the MNIST data and labels\n",
        "\treturn (data, labels)"
      ],
      "execution_count": 5,
      "outputs": []
    },
    {
      "cell_type": "markdown",
      "metadata": {
        "id": "gCwaeNo4Z5fO"
      },
      "source": [
        "### Training our OCR Model using Keras and TensorFlow"
      ]
    },
    {
      "cell_type": "code",
      "metadata": {
        "id": "8zD9sCnwaFw_"
      },
      "source": [
        "# since we are using Jupyter Notebooks we can replace our argument\n",
        "# parsing code with *hard coded* arguments and values\n",
        "args = {\n",
        "\t\"az\": \"a_z_handwritten_data.csv\",\n",
        "    \"model\": \"handwriting.model\",\n",
        "    \"plot\": \"plot.png\"\n",
        "}"
      ],
      "execution_count": 6,
      "outputs": []
    },
    {
      "cell_type": "code",
      "metadata": {
        "id": "v7G7R0tiaRak",
        "colab": {
          "base_uri": "https://localhost:8080/"
        },
        "outputId": "ddd687cc-3698-494b-e928-cefb78fe70b4"
      },
      "source": [
        "# initialize the number of epochs to train for, initial learning rate,\n",
        "# and batch size\n",
        "EPOCHS = 50\n",
        "INIT_LR = 1e-1\n",
        "BS = 128\n",
        "\n",
        "# load the A-Z and MNIST datasets, respectively\n",
        "print(\"[INFO] loading datasets...\")\n",
        "(azData, azLabels) = load_az_dataset(args[\"az\"])\n",
        "(digitsData, digitsLabels) = load_mnist_dataset()"
      ],
      "execution_count": 7,
      "outputs": [
        {
          "output_type": "stream",
          "text": [
            "[INFO] loading datasets...\n",
            "Downloading data from https://storage.googleapis.com/tensorflow/tf-keras-datasets/mnist.npz\n",
            "11493376/11490434 [==============================] - 0s 0us/step\n"
          ],
          "name": "stdout"
        }
      ]
    },
    {
      "cell_type": "code",
      "metadata": {
        "id": "JfOGq6L0aTbf"
      },
      "source": [
        "# the MNIST dataset occupies the labels 0-9, so let's add 10 to every\n",
        "# A-Z label to ensure the A-Z characters are not incorrectly labeled\n",
        "# as digits\n",
        "azLabels += 10\n",
        "\n",
        "# stack the A-Z data and labels with the MNIST digits data and labels\n",
        "data = np.vstack([azData, digitsData])\n",
        "labels = np.hstack([azLabels, digitsLabels])\n",
        "\n",
        "# each image in the A-Z and MNIST digts datasets are 28x28 pixels;\n",
        "# however, the architecture we're using is designed for 32x32 images,\n",
        "# so we need to resize them to 32x32\n",
        "data = [cv2.resize(image, (32, 32)) for image in data]\n",
        "data = np.array(data, dtype=\"float32\")\n",
        "\n",
        "# add a channel dimension to every image in the dataset and scale the\n",
        "# pixel intensities of the images from [0, 255] down to [0, 1]\n",
        "data = np.expand_dims(data, axis=-1)\n",
        "data /= 255.0"
      ],
      "execution_count": 8,
      "outputs": []
    },
    {
      "cell_type": "code",
      "metadata": {
        "id": "vcykYXmFaWkb"
      },
      "source": [
        "# convert the labels from integers to vectors\n",
        "le = LabelBinarizer()\n",
        "labels = le.fit_transform(labels)\n",
        "counts = labels.sum(axis=0)\n",
        "\n",
        "# account for skew in the labeled data\n",
        "classTotals = labels.sum(axis=0)\n",
        "classWeight = {}\n",
        "\n",
        "# loop over all classes and calculate the class weight\n",
        "for i in range(0, len(classTotals)):\n",
        "\tclassWeight[i] = classTotals.max() / classTotals[i]\n",
        "\n",
        "# partition the data into training and testing splits using 80% of\n",
        "# the data for training and the remaining 20% for testing\n",
        "(trainX, testX, trainY, testY) = train_test_split(data,\n",
        "\tlabels, test_size=0.20, stratify=labels, random_state=42)"
      ],
      "execution_count": 9,
      "outputs": []
    },
    {
      "cell_type": "code",
      "metadata": {
        "id": "9SeaQi9oaaWu"
      },
      "source": [
        "# construct the image generator for data augmentation\n",
        "aug = ImageDataGenerator(\n",
        "\trotation_range=10,\n",
        "\tzoom_range=0.05,\n",
        "\twidth_shift_range=0.1,\n",
        "\theight_shift_range=0.1,\n",
        "\tshear_range=0.15,\n",
        "\thorizontal_flip=False,\n",
        "\tfill_mode=\"nearest\")"
      ],
      "execution_count": 10,
      "outputs": []
    },
    {
      "cell_type": "code",
      "metadata": {
        "id": "JlI8Moxeaa4-",
        "colab": {
          "base_uri": "https://localhost:8080/"
        },
        "outputId": "0712cb98-1c5b-416a-d9bf-c3cf184865b8"
      },
      "source": [
        "# initialize and compile our deep neural network\n",
        "print(\"[INFO] compiling model...\")\n",
        "opt = SGD(lr=INIT_LR, decay=INIT_LR / EPOCHS)\n",
        "model = ResNet.build(32, 32, 1, len(le.classes_), (3, 3, 3),\n",
        "\t(64, 64, 128, 256), reg=0.0005)\n",
        "model.compile(loss=\"categorical_crossentropy\", optimizer=opt,\n",
        "\tmetrics=[\"accuracy\"])"
      ],
      "execution_count": 11,
      "outputs": [
        {
          "output_type": "stream",
          "text": [
            "[INFO] compiling model...\n"
          ],
          "name": "stdout"
        }
      ]
    },
    {
      "cell_type": "code",
      "metadata": {
        "id": "Oi28s1bnachq",
        "colab": {
          "base_uri": "https://localhost:8080/"
        },
        "outputId": "e799ed4f-6590-4411-f37a-557014be915d"
      },
      "source": [
        "# train the network\n",
        "print(\"[INFO] training network...\")\n",
        "H = model.fit(\n",
        "\taug.flow(trainX, trainY, batch_size=BS),\n",
        "\tvalidation_data=(testX, testY),\n",
        "\tsteps_per_epoch=len(trainX) // BS,\n",
        "\tepochs=EPOCHS,\n",
        "\tclass_weight=classWeight,\n",
        "\tverbose=1)\n",
        "\n",
        "# define the list of label names\n",
        "labelNames = \"0123456789\"\n",
        "labelNames += \"ABCDEFGHIJKLMNOPQRSTUVWXYZ\"\n",
        "labelNames = [l for l in labelNames]\n",
        "\n",
        "# evaluate the network\n",
        "print(\"[INFO] evaluating network...\")\n",
        "predictions = model.predict(testX, batch_size=BS)\n",
        "print(classification_report(testY.argmax(axis=1),\n",
        "\tpredictions.argmax(axis=1), target_names=labelNames))"
      ],
      "execution_count": 12,
      "outputs": [
        {
          "output_type": "stream",
          "text": [
            "[INFO] training network...\n",
            "Epoch 1/50\n",
            "2765/2765 [==============================] - 183s 66ms/step - loss: 1.8678 - accuracy: 0.8702 - val_loss: 0.5050 - val_accuracy: 0.9167\n",
            "Epoch 2/50\n",
            "2765/2765 [==============================] - 184s 66ms/step - loss: 0.9341 - accuracy: 0.9274 - val_loss: 0.5801 - val_accuracy: 0.8686\n",
            "Epoch 3/50\n",
            "2765/2765 [==============================] - 184s 66ms/step - loss: 0.8539 - accuracy: 0.9347 - val_loss: 0.5471 - val_accuracy: 0.8891\n",
            "Epoch 4/50\n",
            "2765/2765 [==============================] - 184s 67ms/step - loss: 0.8079 - accuracy: 0.9383 - val_loss: 0.5396 - val_accuracy: 0.8904\n",
            "Epoch 5/50\n",
            "2765/2765 [==============================] - 184s 66ms/step - loss: 0.7843 - accuracy: 0.9393 - val_loss: 0.5123 - val_accuracy: 0.8959\n",
            "Epoch 6/50\n",
            "2765/2765 [==============================] - 183s 66ms/step - loss: 0.7656 - accuracy: 0.9408 - val_loss: 0.5048 - val_accuracy: 0.8986\n",
            "Epoch 7/50\n",
            "2765/2765 [==============================] - 183s 66ms/step - loss: 0.7479 - accuracy: 0.9421 - val_loss: 0.5062 - val_accuracy: 0.9014\n",
            "Epoch 8/50\n",
            "2765/2765 [==============================] - 183s 66ms/step - loss: 0.7346 - accuracy: 0.9436 - val_loss: 0.5659 - val_accuracy: 0.8685\n",
            "Epoch 9/50\n",
            "2765/2765 [==============================] - 184s 66ms/step - loss: 0.7216 - accuracy: 0.9453 - val_loss: 0.4903 - val_accuracy: 0.9031\n",
            "Epoch 10/50\n",
            "2765/2765 [==============================] - 183s 66ms/step - loss: 0.7135 - accuracy: 0.9463 - val_loss: 0.4608 - val_accuracy: 0.9192\n",
            "Epoch 11/50\n",
            "2765/2765 [==============================] - 183s 66ms/step - loss: 0.7012 - accuracy: 0.9482 - val_loss: 0.4426 - val_accuracy: 0.9333\n",
            "Epoch 12/50\n",
            "2765/2765 [==============================] - 183s 66ms/step - loss: 0.6930 - accuracy: 0.9493 - val_loss: 0.4568 - val_accuracy: 0.9248\n",
            "Epoch 13/50\n",
            "2765/2765 [==============================] - 183s 66ms/step - loss: 0.6858 - accuracy: 0.9505 - val_loss: 0.4719 - val_accuracy: 0.9129\n",
            "Epoch 14/50\n",
            "2765/2765 [==============================] - 183s 66ms/step - loss: 0.6804 - accuracy: 0.9507 - val_loss: 0.4338 - val_accuracy: 0.9376\n",
            "Epoch 15/50\n",
            "2765/2765 [==============================] - 183s 66ms/step - loss: 0.6754 - accuracy: 0.9521 - val_loss: 0.4276 - val_accuracy: 0.9437\n",
            "Epoch 16/50\n",
            "2765/2765 [==============================] - 183s 66ms/step - loss: 0.6687 - accuracy: 0.9526 - val_loss: 0.4433 - val_accuracy: 0.9334\n",
            "Epoch 17/50\n",
            "2765/2765 [==============================] - 183s 66ms/step - loss: 0.6642 - accuracy: 0.9534 - val_loss: 0.4252 - val_accuracy: 0.9451\n",
            "Epoch 18/50\n",
            "2765/2765 [==============================] - 184s 66ms/step - loss: 0.6608 - accuracy: 0.9533 - val_loss: 0.4182 - val_accuracy: 0.9475\n",
            "Epoch 19/50\n",
            "2765/2765 [==============================] - 184s 66ms/step - loss: 0.6534 - accuracy: 0.9548 - val_loss: 0.4165 - val_accuracy: 0.9487\n",
            "Epoch 20/50\n",
            "2765/2765 [==============================] - 184s 66ms/step - loss: 0.6490 - accuracy: 0.9552 - val_loss: 0.4035 - val_accuracy: 0.9550\n",
            "Epoch 21/50\n",
            "2765/2765 [==============================] - 184s 67ms/step - loss: 0.6460 - accuracy: 0.9557 - val_loss: 0.3938 - val_accuracy: 0.9594\n",
            "Epoch 22/50\n",
            "2765/2765 [==============================] - 184s 67ms/step - loss: 0.6426 - accuracy: 0.9561 - val_loss: 0.3917 - val_accuracy: 0.9601\n",
            "Epoch 23/50\n",
            "2765/2765 [==============================] - 184s 67ms/step - loss: 0.6386 - accuracy: 0.9571 - val_loss: 0.3886 - val_accuracy: 0.9613\n",
            "Epoch 24/50\n",
            "2765/2765 [==============================] - 185s 67ms/step - loss: 0.6375 - accuracy: 0.9569 - val_loss: 0.4178 - val_accuracy: 0.9455\n",
            "Epoch 25/50\n",
            "2765/2765 [==============================] - 185s 67ms/step - loss: 0.6314 - accuracy: 0.9582 - val_loss: 0.3973 - val_accuracy: 0.9574\n",
            "Epoch 26/50\n",
            "2765/2765 [==============================] - 184s 67ms/step - loss: 0.6303 - accuracy: 0.9582 - val_loss: 0.4011 - val_accuracy: 0.9563\n",
            "Epoch 27/50\n",
            "2765/2765 [==============================] - 184s 67ms/step - loss: 0.6261 - accuracy: 0.9584 - val_loss: 0.3852 - val_accuracy: 0.9618\n",
            "Epoch 28/50\n",
            "2765/2765 [==============================] - 185s 67ms/step - loss: 0.6211 - accuracy: 0.9595 - val_loss: 0.3852 - val_accuracy: 0.9629\n",
            "Epoch 29/50\n",
            "2765/2765 [==============================] - 185s 67ms/step - loss: 0.6204 - accuracy: 0.9594 - val_loss: 0.3923 - val_accuracy: 0.9590\n",
            "Epoch 30/50\n",
            "2765/2765 [==============================] - 184s 67ms/step - loss: 0.6173 - accuracy: 0.9599 - val_loss: 0.3816 - val_accuracy: 0.9638\n",
            "Epoch 31/50\n",
            "2765/2765 [==============================] - 185s 67ms/step - loss: 0.6188 - accuracy: 0.9599 - val_loss: 0.3979 - val_accuracy: 0.9555\n",
            "Epoch 32/50\n",
            "2765/2765 [==============================] - 185s 67ms/step - loss: 0.6143 - accuracy: 0.9601 - val_loss: 0.3852 - val_accuracy: 0.9620\n",
            "Epoch 33/50\n",
            "2765/2765 [==============================] - 184s 67ms/step - loss: 0.6092 - accuracy: 0.9608 - val_loss: 0.3828 - val_accuracy: 0.9623\n",
            "Epoch 34/50\n",
            "2765/2765 [==============================] - 184s 67ms/step - loss: 0.6065 - accuracy: 0.9613 - val_loss: 0.3769 - val_accuracy: 0.9650\n",
            "Epoch 35/50\n",
            "2765/2765 [==============================] - 185s 67ms/step - loss: 0.6051 - accuracy: 0.9619 - val_loss: 0.3877 - val_accuracy: 0.9601\n",
            "Epoch 36/50\n",
            "2765/2765 [==============================] - 185s 67ms/step - loss: 0.6017 - accuracy: 0.9622 - val_loss: 0.3899 - val_accuracy: 0.9591\n",
            "Epoch 37/50\n",
            "2765/2765 [==============================] - 184s 67ms/step - loss: 0.5995 - accuracy: 0.9625 - val_loss: 0.3771 - val_accuracy: 0.9654\n",
            "Epoch 38/50\n",
            "2765/2765 [==============================] - 184s 67ms/step - loss: 0.5994 - accuracy: 0.9627 - val_loss: 0.3855 - val_accuracy: 0.9611\n",
            "Epoch 39/50\n",
            "2765/2765 [==============================] - 185s 67ms/step - loss: 0.5957 - accuracy: 0.9629 - val_loss: 0.3724 - val_accuracy: 0.9661\n",
            "Epoch 40/50\n",
            "2765/2765 [==============================] - 184s 67ms/step - loss: 0.5944 - accuracy: 0.9633 - val_loss: 0.3991 - val_accuracy: 0.9532\n",
            "Epoch 41/50\n",
            "2765/2765 [==============================] - 185s 67ms/step - loss: 0.5935 - accuracy: 0.9640 - val_loss: 0.3747 - val_accuracy: 0.9660\n",
            "Epoch 42/50\n",
            "2765/2765 [==============================] - 185s 67ms/step - loss: 0.5875 - accuracy: 0.9643 - val_loss: 0.3776 - val_accuracy: 0.9652\n",
            "Epoch 43/50\n",
            "2765/2765 [==============================] - 185s 67ms/step - loss: 0.5865 - accuracy: 0.9645 - val_loss: 0.3746 - val_accuracy: 0.9650\n",
            "Epoch 44/50\n",
            "2765/2765 [==============================] - 184s 67ms/step - loss: 0.5828 - accuracy: 0.9651 - val_loss: 0.3784 - val_accuracy: 0.9659\n",
            "Epoch 45/50\n",
            "2765/2765 [==============================] - 185s 67ms/step - loss: 0.5802 - accuracy: 0.9653 - val_loss: 0.3855 - val_accuracy: 0.9609\n",
            "Epoch 46/50\n",
            "2765/2765 [==============================] - 184s 67ms/step - loss: 0.5782 - accuracy: 0.9660 - val_loss: 0.3725 - val_accuracy: 0.9648\n",
            "Epoch 47/50\n",
            "2765/2765 [==============================] - 185s 67ms/step - loss: 0.5816 - accuracy: 0.9657 - val_loss: 0.3946 - val_accuracy: 0.9541\n",
            "Epoch 48/50\n",
            "2765/2765 [==============================] - 185s 67ms/step - loss: 0.5758 - accuracy: 0.9661 - val_loss: 0.3743 - val_accuracy: 0.9665\n",
            "Epoch 49/50\n",
            "2765/2765 [==============================] - 185s 67ms/step - loss: 0.5772 - accuracy: 0.9663 - val_loss: 0.3970 - val_accuracy: 0.9530\n",
            "Epoch 50/50\n",
            "2765/2765 [==============================] - 185s 67ms/step - loss: 0.5727 - accuracy: 0.9670 - val_loss: 0.3848 - val_accuracy: 0.9595\n",
            "[INFO] evaluating network...\n",
            "              precision    recall  f1-score   support\n",
            "\n",
            "           0       0.38      0.51      0.44      1381\n",
            "           1       0.98      0.98      0.98      1575\n",
            "           2       0.95      0.92      0.93      1398\n",
            "           3       0.98      0.99      0.99      1428\n",
            "           4       0.94      0.97      0.96      1365\n",
            "           5       0.72      0.94      0.82      1263\n",
            "           6       0.97      0.97      0.97      1375\n",
            "           7       0.98      0.99      0.98      1459\n",
            "           8       0.98      0.98      0.98      1365\n",
            "           9       0.99      0.99      0.99      1392\n",
            "           A       0.99      0.99      0.99      2774\n",
            "           B       0.99      0.99      0.99      1734\n",
            "           C       0.99      0.99      0.99      4682\n",
            "           D       0.91      0.98      0.94      2027\n",
            "           E       0.99      0.99      0.99      2288\n",
            "           F       0.95      0.99      0.97       232\n",
            "           G       0.98      0.96      0.97      1152\n",
            "           H       0.98      0.98      0.98      1444\n",
            "           I       0.98      0.99      0.98       224\n",
            "           J       0.97      0.98      0.98      1699\n",
            "           K       0.98      0.98      0.98      1121\n",
            "           L       0.97      0.99      0.98      2317\n",
            "           M       0.99      1.00      0.99      2467\n",
            "           N       0.99      0.99      0.99      3802\n",
            "           O       0.94      0.89      0.91     11565\n",
            "           P       1.00      0.99      0.99      3868\n",
            "           Q       0.98      0.98      0.98      1162\n",
            "           R       0.99      0.99      0.99      2313\n",
            "           S       0.99      0.95      0.97      9684\n",
            "           T       1.00      0.99      0.99      4499\n",
            "           U       0.99      0.99      0.99      5802\n",
            "           V       0.97      1.00      0.98       836\n",
            "           W       0.99      0.99      0.99      2157\n",
            "           X       0.99      0.99      0.99      1254\n",
            "           Y       0.99      0.96      0.97      2172\n",
            "           Z       0.92      0.97      0.94      1215\n",
            "\n",
            "    accuracy                           0.96     88491\n",
            "   macro avg       0.95      0.96      0.96     88491\n",
            "weighted avg       0.96      0.96      0.96     88491\n",
            "\n"
          ],
          "name": "stdout"
        }
      ]
    },
    {
      "cell_type": "code",
      "metadata": {
        "id": "FymXy3zaag1i",
        "colab": {
          "base_uri": "https://localhost:8080/",
          "height": 316
        },
        "outputId": "c45b88b0-7521-4050-a23f-3e56963e5b4f"
      },
      "source": [
        "# save the model to disk\n",
        "print(\"[INFO] serializing network...\")\n",
        "model.save(args[\"model\"], save_format=\"h5\")\n",
        "\n",
        "# construct a plot that plots and saves the training history\n",
        "N = np.arange(0, EPOCHS)\n",
        "plt.style.use(\"ggplot\")\n",
        "plt.figure()\n",
        "plt.plot(N, H.history[\"loss\"], label=\"train_loss\")\n",
        "plt.plot(N, H.history[\"val_loss\"], label=\"val_loss\")\n",
        "plt.title(\"Training Loss and Accuracy\")\n",
        "plt.xlabel(\"Epoch #\")\n",
        "plt.ylabel(\"Loss/Accuracy\")\n",
        "plt.legend(loc=\"lower left\")\n",
        "plt.savefig(args[\"plot\"])\n",
        "plt.show()"
      ],
      "execution_count": 13,
      "outputs": [
        {
          "output_type": "stream",
          "text": [
            "[INFO] serializing network...\n"
          ],
          "name": "stdout"
        },
        {
          "output_type": "display_data",
          "data": {
            "image/png": "[encoded data removed]",
            "text/plain": [
              "<Figure size 432x288 with 1 Axes>"
            ]
          },
          "metadata": {
            "tags": []
          }
        }
      ]
    },
    {
      "cell_type": "code",
      "metadata": {
        "id": "MsZWVPp9akSd",
        "colab": {
          "base_uri": "https://localhost:8080/",
          "height": 282
        },
        "outputId": "2dcee380-ec59-4a07-b019-1c93d48f6f4e"
      },
      "source": [
        "# initialize our list of output test images\n",
        "images = []\n",
        "\n",
        "# randomly select a few testing characters\n",
        "for i in np.random.choice(np.arange(0, len(testY)), size=(49,)):\n",
        "\t# classify the character\n",
        "\tprobs = model.predict(testX[np.newaxis, i])\n",
        "\tprediction = probs.argmax(axis=1)\n",
        "\tlabel = labelNames[prediction[0]]\n",
        "\n",
        "\t# extract the image from the test data and initialize the text\n",
        "\t# label color as green (correct)\n",
        "\timage = (testX[i] * 255).astype(\"uint8\")\n",
        "\tcolor = (0, 255, 0)\n",
        "\n",
        "\t# otherwise, the class label prediction is incorrect\n",
        "\tif prediction[0] != np.argmax(testY[i]):\n",
        "\t\tcolor = (0, 0, 255)\n",
        "\n",
        "\t# merge the channels into one image, resize the image from 32x32\n",
        "\t# to 96x96 so we can better see it and then draw the predicted\n",
        "\t# label on the image\n",
        "\timage = cv2.merge([image] * 3)\n",
        "\timage = cv2.resize(image, (96, 96), interpolation=cv2.INTER_LINEAR)\n",
        "\tcv2.putText(image, label, (5, 20), cv2.FONT_HERSHEY_SIMPLEX, 0.75,\n",
        "\t\tcolor, 2)\n",
        "\n",
        "\t# add the image to our list of output images\n",
        "\timages.append(image)\n",
        "\n",
        "# construct the montage for the images\n",
        "montage = build_montages(images, (96, 96), (7, 7))[0]\n",
        "\n",
        "# show the output montage\n",
        "plt_imshow(\"OCR Results\", montage)"
      ],
      "execution_count": 14,
      "outputs": [
        {
          "output_type": "display_data",
          "data": {
            "image/png": "[encoded data removed]",
            "text/plain": [
              "<Figure size 432x288 with 1 Axes>"
            ]
          },
          "metadata": {
            "tags": []
          }
        }
      ]
    }
  ]
}