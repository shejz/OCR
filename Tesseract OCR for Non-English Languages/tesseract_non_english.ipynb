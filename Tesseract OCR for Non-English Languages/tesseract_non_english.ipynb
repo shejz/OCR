{
  "nbformat": 4,
  "nbformat_minor": 0,
  "metadata": {
    "colab": {
      "name": "tesseract_non_english.ipynb",
      "provenance": [],
      "collapsed_sections": []
    },
    "kernelspec": {
      "display_name": "Python 3",
      "language": "python",
      "name": "python3"
    },
    "language_info": {
      "codemirror_mode": {
        "name": "ipython",
        "version": 3
      },
      "file_extension": ".py",
      "mimetype": "text/x-python",
      "name": "python",
      "nbconvert_exporter": "python",
      "pygments_lexer": "ipython3",
      "version": "3.8.5"
    }
  },
  "cells": [
    {
      "cell_type": "markdown",
      "metadata": {
        "id": "j4RpK9pawQzP"
      },
      "source": [
        "# Tesseract OCR for Non-English Languages"
      ]
    },
    {
      "cell_type": "code",
      "metadata": {
        "id": "n9FkaOfWwawu"
      },
      "source": [
        "!sudo apt-get install tesseract-ocr\n",
        "!pip install pytesseract\n",
        "!pip install textblob"
      ],
      "execution_count": null,
      "outputs": []
    },
    {
      "cell_type": "markdown",
      "metadata": {
        "id": "nk9aWlVlSXlj"
      },
      "source": [
        "### Downloading and Adding Language Packs to Tesseract OCR"
      ]
    },
    {
      "cell_type": "code",
      "metadata": {
        "id": "T6MTLQAwSaQU",
        "colab": {
          "base_uri": "https://localhost:8080/"
        },
        "outputId": "6d15a9db-5ffb-4e60-a530-37dbd5a2cc9d"
      },
      "source": [
        "!git clone https://github.com/tesseract-ocr/tessdata"
      ],
      "execution_count": 2,
      "outputs": [
        {
          "output_type": "stream",
          "text": [
            "Cloning into 'tessdata'...\n",
            "remote: Enumerating objects: 769, done.\u001b[K\n",
            "remote: Counting objects: 100% (1/1), done.\u001b[K\n",
            "remote: Total 769 (delta 0), reused 1 (delta 0), pack-reused 768\u001b[K\n",
            "Receiving objects: 100% (769/769), 3.17 GiB | 17.69 MiB/s, done.\n",
            "Resolving deltas: 100% (178/178), done.\n",
            "Checking out files: 100% (172/172), done.\n"
          ],
          "name": "stdout"
        }
      ]
    },
    {
      "cell_type": "code",
      "metadata": {
        "id": "DhJrHs7ZYwRF"
      },
      "source": [
        "import os\n",
        "os.environ[\"TESSDATA_PREFIX\"] = \"/content/tessdata\""
      ],
      "execution_count": 1,
      "outputs": []
    },
    {
      "cell_type": "code",
      "metadata": {
        "id": "7y0LG1EuaRlB",
        "colab": {
          "base_uri": "https://localhost:8080/"
        },
        "outputId": "7ab0fd4a-e124-4cdc-cceb-96fe8f9fb9fc"
      },
      "source": [
        "%cd tesseract-non-english"
      ],
      "execution_count": 2,
      "outputs": [
        {
          "output_type": "stream",
          "text": [
            "/content/tesseract-non-english\n"
          ],
          "name": "stdout"
        }
      ]
    },
    {
      "cell_type": "markdown",
      "metadata": {
        "id": "wcrOk6pURp50"
      },
      "source": [
        "### Import Packages"
      ]
    },
    {
      "cell_type": "code",
      "metadata": {
        "id": "VJaCNlDDRz6d"
      },
      "source": [
        "# import the necessary packages\n",
        "from matplotlib import pyplot as plt\n",
        "from textblob import TextBlob\n",
        "import pytesseract\n",
        "import argparse\n",
        "import cv2"
      ],
      "execution_count": 3,
      "outputs": []
    },
    {
      "cell_type": "markdown",
      "metadata": {
        "id": "lBrLwCtN5kqy"
      },
      "source": [
        "### Function to display images in Jupyter Notebooks and Google Colab"
      ]
    },
    {
      "cell_type": "code",
      "metadata": {
        "id": "fRw969Dp5Kdm"
      },
      "source": [
        "def plt_imshow(title, image):\n",
        "\t# convert the image frame BGR to RGB color space and display it\n",
        "\timage = cv2.cvtColor(image, cv2.COLOR_BGR2RGB)\n",
        "\tplt.imshow(image)\n",
        "\tplt.title(title)\n",
        "\tplt.grid(False)\n",
        "\tplt.show()"
      ],
      "execution_count": 4,
      "outputs": []
    },
    {
      "cell_type": "markdown",
      "metadata": {
        "id": "Jppw5-Bd56H-"
      },
      "source": [
        "### Implementing Our Tesseract with Non-English Languages Script"
      ]
    },
    {
      "cell_type": "code",
      "metadata": {
        "id": "okM7Bpyeq8Kc"
      },
      "source": [
        "# since we are using Jupyter Notebooks we can replace our argument\n",
        "# parsing code with *hard coded* arguments and values\n",
        "args = {\n",
        "\t\"image\": \"images/german.png\",\n",
        "\t\"lang\": \"deu\",\n",
        "\t\"to\": \"en\",\n",
        "\t\"psm\": 13\n",
        "}"
      ],
      "execution_count": 5,
      "outputs": []
    },
    {
      "cell_type": "code",
      "metadata": {
        "id": "w1kplmjNTsOs",
        "colab": {
          "base_uri": "https://localhost:8080/"
        },
        "outputId": "a160f0cf-0b6d-4e7a-e519-7f5aef367df7"
      },
      "source": [
        "# load the input image and convert it from BGR to RGB channel\n",
        "# ordering\n",
        "image = cv2.imread(args[\"image\"])\n",
        "rgb = cv2.cvtColor(image, cv2.COLOR_BGR2RGB)\n",
        "\n",
        "# OCR the image, supplying the country code as the language parameter\n",
        "options = \"-l {} --psm {}\".format(args[\"lang\"], args[\"psm\"])\n",
        "text = pytesseract.image_to_string(rgb, config=options)\n",
        "\n",
        "# show the original OCR'd text\n",
        "print(\"ORIGINAL\")\n",
        "print(\"========\")\n",
        "print(text)\n",
        "print(\"\")"
      ],
      "execution_count": 6,
      "outputs": [
        {
          "output_type": "stream",
          "text": [
            "ORIGINAL\n",
            "========\n",
            "Ich brauche ein Bier!\n",
            "\f\n",
            "\n"
          ],
          "name": "stdout"
        }
      ]
    },
    {
      "cell_type": "code",
      "metadata": {
        "id": "bDNl_X9wTvex",
        "colab": {
          "base_uri": "https://localhost:8080/"
        },
        "outputId": "fd637911-5301-49b6-9218-a1deba28daae"
      },
      "source": [
        "# translate the text into a different language\n",
        "tb = TextBlob(text)\n",
        "translated = tb.translate(to=args[\"to\"])\n",
        "\n",
        "# show the translated text\n",
        "print(\"TRANSLATED\")\n",
        "print(\"==========\")\n",
        "print(translated)"
      ],
      "execution_count": 7,
      "outputs": [
        {
          "output_type": "stream",
          "text": [
            "TRANSLATED\n",
            "==========\n",
            "I need a beer!\n"
          ],
          "name": "stdout"
        }
      ]
    }
  ]
}