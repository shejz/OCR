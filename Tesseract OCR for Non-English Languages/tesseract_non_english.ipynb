{
  "nbformat": 4,
  "nbformat_minor": 0,
  "metadata": {
    "colab": {
      "name": "tesseract_non_english.ipynb",
      "provenance": [],
      "collapsed_sections": [],
      "toc_visible": true
    },
    "kernelspec": {
      "display_name": "Python 3",
      "language": "python",
      "name": "python3"
    },
    "language_info": {
      "codemirror_mode": {
        "name": "ipython",
        "version": 3
      },
      "file_extension": ".py",
      "mimetype": "text/x-python",
      "name": "python",
      "nbconvert_exporter": "python",
      "pygments_lexer": "ipython3",
      "version": "3.8.5"
    }
  },
  "cells": [
    {
      "cell_type": "markdown",
      "metadata": {
        "id": "j4RpK9pawQzP"
      },
      "source": [
        "# Tesseract OCR for Non-English Languages"
      ]
    },
    {
      "cell_type": "markdown",
      "metadata": {
        "id": "zAckSQgGaGHY"
      },
      "source": [
        "### Install the necessary packages"
      ]
    },
    {
      "cell_type": "code",
      "metadata": {
        "id": "n9FkaOfWwawu"
      },
      "source": [
        "!sudo apt-get install tesseract-ocr\n",
        "!pip install pytesseract\n",
        "!pip install textblob"
      ],
      "execution_count": null,
      "outputs": []
    },
    {
      "cell_type": "markdown",
      "metadata": {
        "id": "nk9aWlVlSXlj"
      },
      "source": [
        "### Downloading and Adding Language Packs to Tesseract OCR"
      ]
    },
    {
      "cell_type": "code",
      "metadata": {
        "id": "T6MTLQAwSaQU",
        "colab": {
          "base_uri": "https://localhost:8080/"
        },
        "outputId": "e5f05900-a6a9-4a2b-e8a6-ead17e8f1e91"
      },
      "source": [
        "!git clone https://github.com/tesseract-ocr/tessdata"
      ],
      "execution_count": 2,
      "outputs": [
        {
          "output_type": "stream",
          "text": [
            "Cloning into 'tessdata'...\n",
            "remote: Enumerating objects: 769, done.\u001b[K\n",
            "remote: Counting objects: 100% (1/1), done.\u001b[K\n",
            "remote: Total 769 (delta 0), reused 1 (delta 0), pack-reused 768\u001b[K\n",
            "Receiving objects: 100% (769/769), 3.17 GiB | 19.26 MiB/s, done.\n",
            "Resolving deltas: 100% (178/178), done.\n",
            "Checking out files: 100% (172/172), done.\n"
          ],
          "name": "stdout"
        }
      ]
    },
    {
      "cell_type": "code",
      "metadata": {
        "id": "DhJrHs7ZYwRF"
      },
      "source": [
        "import os\n",
        "os.environ[\"TESSDATA_PREFIX\"] = \"/content/tessdata\""
      ],
      "execution_count": 1,
      "outputs": []
    },
    {
      "cell_type": "code",
      "metadata": {
        "id": "7y0LG1EuaRlB",
        "colab": {
          "base_uri": "https://localhost:8080/"
        },
        "outputId": "d9e02e4d-a404-478c-8a92-cae902bc6367"
      },
      "source": [
        "%cd tesseract-non-english"
      ],
      "execution_count": 2,
      "outputs": [
        {
          "output_type": "stream",
          "text": [
            "/content/tesseract-non-english\n"
          ],
          "name": "stdout"
        }
      ]
    },
    {
      "cell_type": "markdown",
      "metadata": {
        "id": "wcrOk6pURp50"
      },
      "source": [
        "### Import Packages"
      ]
    },
    {
      "cell_type": "code",
      "metadata": {
        "id": "VJaCNlDDRz6d"
      },
      "source": [
        "# import the necessary packages\n",
        "from matplotlib import pyplot as plt\n",
        "from textblob import TextBlob\n",
        "import pytesseract\n",
        "import argparse\n",
        "import cv2"
      ],
      "execution_count": 3,
      "outputs": []
    },
    {
      "cell_type": "code",
      "metadata": {
        "id": "fRw969Dp5Kdm"
      },
      "source": [
        "def plt_imshow(title, image):\n",
        "\t# convert the image frame BGR to RGB color space and display it\n",
        "\timage = cv2.cvtColor(image, cv2.COLOR_BGR2RGB)\n",
        "\tplt.imshow(image)\n",
        "\tplt.title(title)\n",
        "\tplt.grid(False)\n",
        "\tplt.show()"
      ],
      "execution_count": 4,
      "outputs": []
    },
    {
      "cell_type": "markdown",
      "metadata": {
        "id": "Jppw5-Bd56H-"
      },
      "source": [
        "### Implementing Our Tesseract with Non-English Languages Script\n"
      ]
    },
    {
      "cell_type": "code",
      "metadata": {
        "id": "okM7Bpyeq8Kc"
      },
      "source": [
        "# since we are using Jupyter Notebooks we can replace our argument\n",
        "# parsing code with *hard coded* arguments and values\n",
        "args = {\n",
        "\t\"image\": \"images/german_block.png\",\n",
        "\t\"lang\": \"deu\",\n",
        "\t\"to\": \"en\",\n",
        "\t\"psm\": 3\n",
        "}"
      ],
      "execution_count": 5,
      "outputs": []
    },
    {
      "cell_type": "code",
      "metadata": {
        "id": "w1kplmjNTsOs",
        "colab": {
          "base_uri": "https://localhost:8080/"
        },
        "outputId": "c79bbb25-14d4-4be2-dd6b-14d52057aa63"
      },
      "source": [
        "# load the input image and convert it from BGR to RGB channel\n",
        "# ordering\n",
        "image = cv2.imread(args[\"image\"])\n",
        "rgb = cv2.cvtColor(image, cv2.COLOR_BGR2RGB)\n",
        "\n",
        "# OCR the image, supplying the country code as the language parameter\n",
        "options = \"-l {} --psm {}\".format(args[\"lang\"], args[\"psm\"])\n",
        "text = pytesseract.image_to_string(rgb, config=options)\n",
        "\n",
        "# show the original OCR'd text\n",
        "print(\"ORIGINAL\")\n",
        "print(\"========\")\n",
        "print(text)\n",
        "print(\"\")"
      ],
      "execution_count": 6,
      "outputs": [
        {
          "output_type": "stream",
          "text": [
            "ORIGINAL\n",
            "========\n",
            "Erstes Kapitel\n",
            "\n",
            "Gustav Aschenbach oder von Aschenbach, wie seit seinem fünfzigsten\n",
            "Geburtstag amtlich sein Name lautete, hatte an einem\n",
            "Frühlingsnachmittag des Jahres 19.., das unserem Kontinent monatelang\n",
            "eine so gefahrdrohende Miene zeigte, von seiner Wohnung in der Prinz-\n",
            "Regentenstraße zu München aus, allein einen weiteren Spaziergang\n",
            "unternommen. Überreizt von der schwierigen und gefährlichen, eben\n",
            "jetzt eine höchste Behutsamkeit, Umsicht, Eindringlichkeit und\n",
            "Genauigkeit des Willens erfordernden Arbeit der Vormittagsstunden,\n",
            "hatte der Schriftsteller dem Fortschwingen des produzierenden\n",
            "Triebwerks in seinem Innern, jenem »motus animi continuus«, worin\n",
            "nach Cicero das Wesen der Beredsamkeit besteht, auch nach der\n",
            "Mittagsmahlzeit nicht Einhalt zu tun vermocht und den entlastenden\n",
            "Schlummer nicht gefunden, der ihm, bei zunehmender Abnutzbarkeit\n",
            "seiner Kräfte, einmal untertags so nötig war. So hatte er bald nach dem\n",
            "Tee das Freie gesucht, in der Hoffnung, daß Luft und Bewegung ihn\n",
            "wieder herstellen und ihm zu einem ersprießlichen Abend verhelfen\n",
            "würden.\n",
            "\n",
            "Es war Anfang Mai und, nach naßkalten Wochen, ein falscher\n",
            "Hochsommer eingefallen. Der Englische Garten, obgleich nur erst zart\n",
            "belaubt, war dumpfig wie im August und in der Nähe der Stadt voller\n",
            "Wagen und Spaziergänger gewesen. Beim Aumeister, wohin stillere und\n",
            "stillere Wege ihn geführt, hatte Aschenbach eine kleine Weile den\n",
            "volkstümlich belebten Wirtsgarten überblickt, an dessen Rande einige\n",
            "Droschken und Equipagen hielten, hatte von dort bei sinkender Sonne\n",
            "seinen Heimweg außerhalb des Parks über die offene Flur genommen\n",
            "und erwartete, da er sich müde fühlte und über Föhring Gewitter drohte,\n",
            "am Nördlichen Friedhof die Tram, die ihn in gerader Linie zur Stadt\n",
            "zurückbringen sollte. Zufällig fand er den Halteplatz und seine\n",
            "Umgebung von Menschen leer. Weder auf der gepflasterten\n",
            "Ungererstraße, deren Schienengeleise sich einsam gleißend gegen\n",
            "Schwabing erstreckten, noch auf der Föhringer Chaussee war ein\n",
            "Fuhrwerk zu sehen; hinter den Zäunen der Steinmetzereien, wo zu Kauf\n",
            "\f\n",
            "\n"
          ],
          "name": "stdout"
        }
      ]
    },
    {
      "cell_type": "code",
      "metadata": {
        "id": "bDNl_X9wTvex",
        "colab": {
          "base_uri": "https://localhost:8080/"
        },
        "outputId": "8ac7397a-2b24-4787-963c-1801c45ddec0"
      },
      "source": [
        "# translate the text into a different language\n",
        "tb = TextBlob(text)\n",
        "translated = tb.translate(to=args[\"to\"])\n",
        "\n",
        "# show the translated text\n",
        "print(\"TRANSLATED\")\n",
        "print(\"==========\")\n",
        "print(translated)"
      ],
      "execution_count": 7,
      "outputs": [
        {
          "output_type": "stream",
          "text": [
            "TRANSLATED\n",
            "==========\n",
            "First chapter\n",
            "\n",
            "Gustav Aschenbach or von Aschenbach, like since his fiftieth\n",
            "His official name was his birthday on one\n",
            "Spring afternoon of the year 19 .. that our continent for months\n",
            "showed such a threatening expression, from his apartment in the\n",
            "Regentenstrasse to Munich, just another walk\n",
            "undertaken. Overstimulated by the difficult and dangerous, just\n",
            "now the greatest care, caution, urgency and\n",
            "Morning work requiring accuracy of will,\n",
            "the writer had the ripple of the producing\n",
            "Engine in its interior, that \"motus animi continuus,\" in which\n",
            "according to Cicero the essence of eloquence exists, even according to the\n",
            "Midday meal could not curb and the exonerating\n",
            "Slumber not found for him, with increasing wear and tear\n",
            "of his strength once during the day was so necessary. So he had soon after\n",
            "Tea sought the outdoors, in the hope that air and movement would leave him\n",
            "restore and help him to have a fruitful evening\n",
            "would.\n",
            "\n",
            "It was the beginning of May and, after the wet and cold weeks, a wrong one\n",
            "Midsummer fell. The English Garden, although only tender at first\n",
            "leafy, dull like August, and crowded near town\n",
            "Carriages and strollers. At the Aumeister, where quieter and where\n",
            "Quieter ways led him, Aschenbach had for a little while\n",
            "popularly lively host garden, on the edge of which there are some\n",
            "Cabs and equipages stopped, had from there when the sun was setting\n",
            "made his way home outside the park via the open hallway\n",
            "and expected, since he felt tired and threatened thunderstorms over Föhring,\n",
            "at the Northern Cemetery the tram that took him in a straight line to the city\n",
            "should bring back. By chance he found the stopping place and his\n",
            "Environment of people empty. Neither on the paved\n",
            "Ungererstraße, the rail tracks of which glisten against each other\n",
            "Schwabing, there was still one on Föhringer Chaussee\n",
            "Wagon to see; behind the fences of the stonecutters, where to buy\n"
          ],
          "name": "stdout"
        }
      ]
    }
  ]
}