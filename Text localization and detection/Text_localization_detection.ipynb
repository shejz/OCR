{
  "nbformat": 4,
  "nbformat_minor": 0,
  "metadata": {
    "colab": {
      "name": "Text_localization_detection.ipynb",
      "provenance": [],
      "collapsed_sections": []
    },
    "kernelspec": {
      "display_name": "Python 3",
      "language": "python",
      "name": "python3"
    },
    "language_info": {
      "codemirror_mode": {
        "name": "ipython",
        "version": 3
      },
      "file_extension": ".py",
      "mimetype": "text/x-python",
      "name": "python",
      "nbconvert_exporter": "python",
      "pygments_lexer": "ipython3",
      "version": "3.8.5"
    }
  },
  "cells": [
    {
      "cell_type": "markdown",
      "metadata": {
        "id": "j4RpK9pawQzP"
      },
      "source": [
        "# Tesseract OCR: Text localization and detection"
      ]
    },
    {
      "cell_type": "code",
      "metadata": {
        "id": "n9FkaOfWwawu"
      },
      "source": [
        "!sudo apt-get install tesseract-ocr\n",
        "!pip install pytesseract"
      ],
      "execution_count": null,
      "outputs": []
    },
    {
      "cell_type": "code",
      "metadata": {
        "id": "7y0LG1EuaRlB",
        "colab": {
          "base_uri": "https://localhost:8080/"
        },
        "outputId": "17e0b699-a26b-4add-c9ae-bd57ac25db3e"
      },
      "source": [
        "%cd localize-text-tesseract"
      ],
      "execution_count": 1,
      "outputs": [
        {
          "output_type": "stream",
          "text": [
            "/content/localize-text-tesseract\n"
          ],
          "name": "stdout"
        }
      ]
    },
    {
      "cell_type": "markdown",
      "metadata": {
        "id": "wcrOk6pURp50"
      },
      "source": [
        "### Import Packages"
      ]
    },
    {
      "cell_type": "code",
      "metadata": {
        "id": "VJaCNlDDRz6d"
      },
      "source": [
        "# import the necessary packages\n",
        "from matplotlib import pyplot as plt\n",
        "from pytesseract import Output\n",
        "import pytesseract\n",
        "import cv2"
      ],
      "execution_count": 2,
      "outputs": []
    },
    {
      "cell_type": "markdown",
      "metadata": {
        "id": "lBrLwCtN5kqy"
      },
      "source": [
        "Function to display images in Jupyter Notebooks and Google Colab"
      ]
    },
    {
      "cell_type": "code",
      "metadata": {
        "id": "fRw969Dp5Kdm"
      },
      "source": [
        "def plt_imshow(title, image):\n",
        "\t# convert the image frame BGR to RGB color space and display it\n",
        "\timage = cv2.cvtColor(image, cv2.COLOR_BGR2RGB)\n",
        "\tplt.imshow(image)\n",
        "\tplt.title(title)\n",
        "\tplt.grid(False)\n",
        "\tplt.show()"
      ],
      "execution_count": 3,
      "outputs": []
    },
    {
      "cell_type": "markdown",
      "metadata": {
        "id": "Jppw5-Bd56H-"
      },
      "source": [
        "### Implementing text localization, text detection, and OCR with Tesseract"
      ]
    },
    {
      "cell_type": "markdown",
      "metadata": {
        "id": "IJZKguwwcWZ7"
      },
      "source": [
        "`min_conf` Filter weak text detections, a **minimum confidence**\n",
        "\n",
        "Here, we are filtering out any text detections and OCR results that have a confidence <= 50, and as our results show, the low quality text region has been filtered out."
      ]
    },
    {
      "cell_type": "code",
      "metadata": {
        "id": "okM7Bpyeq8Kc"
      },
      "source": [
        "args = {\n",
        "\t\"image\": \"apple_support.png\",\n",
        "\t\"min_conf\": 50\n",
        "}"
      ],
      "execution_count": 4,
      "outputs": []
    },
    {
      "cell_type": "code",
      "metadata": {
        "id": "PtiMSGPmC2lD"
      },
      "source": [
        "# load the input image, convert it from BGR to RGB channel ordering,\n",
        "# and use Tesseract to localize each area of text in the input image\n",
        "image = cv2.imread(args[\"image\"])\n",
        "rgb = cv2.cvtColor(image, cv2.COLOR_BGR2RGB)\n",
        "results = pytesseract.image_to_data(rgb, output_type=Output.DICT)"
      ],
      "execution_count": 5,
      "outputs": []
    },
    {
      "cell_type": "code",
      "metadata": {
        "id": "KYCNTriqErxm",
        "colab": {
          "base_uri": "https://localhost:8080/",
          "height": 350
        },
        "outputId": "cd811c8a-a1ba-442d-c17f-5ee9e36533c9"
      },
      "source": [
        "# loop over each of the individual text localizations\n",
        "for i in range(0, len(results[\"text\"])):\n",
        "\t# extract the bounding box coordinates of the text region from\n",
        "\t# the current result\n",
        "\tx = results[\"left\"][i]\n",
        "\ty = results[\"top\"][i]\n",
        "\tw = results[\"width\"][i]\n",
        "\th = results[\"height\"][i]\n",
        "\n",
        "\t# extract the OCR text itself along with the confidence of the\n",
        "\t# text localization\n",
        "\ttext = results[\"text\"][i]\n",
        "\tconf = int(results[\"conf\"][i])\n",
        "\n",
        "    # filter out weak confidence text localizations\n",
        "\tif conf > args[\"min_conf\"]:\n",
        "\t\t# display the confidence and text to our terminal\n",
        "\t\tprint(\"Confidence: {}\".format(conf))\n",
        "\t\tprint(\"Text: {}\".format(text))\n",
        "\t\tprint(\"\")\n",
        "  \n",
        "\t\t# strip out non-ASCII text so we can draw the text on the image\n",
        "\t\t# using OpenCV, then draw a bounding box around the text along\n",
        "\t\t# with the text itself\n",
        "\t\ttext = \"\".join([c if ord(c) < 128 else \"\" for c in text]).strip()\n",
        "\t\tcv2.rectangle(image, (x, y), (x + w, y + h), (0, 255, 0), 2)\n",
        "\t\tcv2.putText(image, text, (x, y - 10), cv2.FONT_HERSHEY_SIMPLEX,\n",
        "\t\t\t1.2, (0, 0, 255), 3)\n",
        "  \n",
        "# show the output image\n",
        "plt_imshow(\"Image\", image)"
      ],
      "execution_count": 6,
      "outputs": [
        {
          "output_type": "stream",
          "text": [
            "Confidence: 96\n",
            "Text: Apple\n",
            "\n",
            "Confidence: 96\n",
            "Text: Support\n",
            "\n",
            "Confidence: 96\n",
            "Text: 1-800-275-2273\n",
            "\n"
          ],
          "name": "stdout"
        },
        {
          "output_type": "display_data",
          "data": {
            "image/png": "[encoded data removed]",
            "text/plain": [
              "<Figure size 432x288 with 1 Axes>"
            ]
          },
          "metadata": {
            "tags": [],
            "needs_background": "light"
          }
        }
      ]
    }
  ]
}